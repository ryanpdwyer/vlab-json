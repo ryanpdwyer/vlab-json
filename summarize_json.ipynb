{
 "cells": [
  {
   "cell_type": "code",
   "execution_count": 5,
   "metadata": {},
   "outputs": [],
   "source": [
    "# Let's build a better interface for getting all of the data from this big JSON file.\n",
    "# We'll use the json module to load the data from disk, then we'll use the pandas module to put it into a DataFrame.\n",
    "\n",
    "import json\n",
    "import pandas as pd\n",
    "\n",
    "# Load the data into a DataFrame\n",
    "with open('output.json') as f:\n",
    "    data = json.load(f)\n",
    "\n",
    "\n",
    "# For each experiment in the nested json file, I need to extract the relevant data about species and reactions.\n",
    "# I'll put this into a pandas dataframe.\n",
    "# I'll also add a column for the experiment number and the experimental name\n",
    "species_data = []\n",
    "i = 0\n",
    "for expt, val in data.items():\n",
    "    species = {x['id']: x for x in val['species']['SPECIES_LIST']['SPECIES']}\n",
    "    species_df = pd.DataFrame.from_dict(species, orient='index')\n",
    "    species_df['expt'] = expt\n",
    "    species_df['expt_number'] = i\n",
    "    species_data.append(species_df)\n",
    "    i+=1\n",
    "\n",
    "\n",
    "# Now I'll concatenate all of the dataframes into one big dataframe\n",
    "species_df = pd.concat(species_data)"
   ]
  },
  {
   "cell_type": "code",
   "execution_count": 6,
   "metadata": {},
   "outputs": [],
   "source": [
    "species_df.to_excel('species.xlsx')"
   ]
  },
  {
   "cell_type": "code",
   "execution_count": 8,
   "metadata": {},
   "outputs": [],
   "source": [
    "species_reduced = species_df.copy()\n",
    "species_reduced.drop(['expt', 'expt_number'], axis=1, inplace=True)\n",
    "species_reduced.drop_duplicates(inplace=True)\n",
    "species_reduced.to_excel('species_reduced.xlsx')"
   ]
  },
  {
   "cell_type": "code",
   "execution_count": null,
   "metadata": {},
   "outputs": [],
   "source": []
  }
 ],
 "metadata": {
  "kernelspec": {
   "display_name": "py310",
   "language": "python",
   "name": "python3"
  },
  "language_info": {
   "codemirror_mode": {
    "name": "ipython",
    "version": 3
   },
   "file_extension": ".py",
   "mimetype": "text/x-python",
   "name": "python",
   "nbconvert_exporter": "python",
   "pygments_lexer": "ipython3",
   "version": "3.10.2"
  }
 },
 "nbformat": 4,
 "nbformat_minor": 2
}
